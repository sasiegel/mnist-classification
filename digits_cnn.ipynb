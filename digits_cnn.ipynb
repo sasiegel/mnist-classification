{
 "cells": [
  {
   "cell_type": "code",
   "execution_count": 1,
   "metadata": {},
   "outputs": [],
   "source": [
    "import torch\n",
    "import torchvision\n",
    "import matplotlib.pyplot as plt\n",
    "import torch.nn as nn\n",
    "import torch.nn.functional as F\n",
    "import torch.optim as optim"
   ]
  },
  {
   "cell_type": "markdown",
   "metadata": {},
   "source": [
    "# Classifying Digits with Convolutional Neural Net (CNN)"
   ]
  },
  {
   "cell_type": "markdown",
   "metadata": {},
   "source": [
    "### Read Data\n",
    "The **batch size** is the number of samples passed through the neural net at a time. So if there are 1,000 samples and your batch size is 100 then for each epoch there will be 1,000/100 = 10 batches passed through the net. An advantage is if you have one billion samples and you don't have the computing power (memory) to pass it all at once. Also it's been shown that networks train faster using batches smaller than the entire sample.\n",
    "\n",
    "The data is downloaded from pytorch module and stored in the root file. The pytorch class DataLoader is used to load the data set into the environment. Typically we would like to normalize the data and the transform argument in DataLoader class is a nice place to pass a Compose class that contains both the ToTensor conversion as well as Normalize function. In this case we'll just do the ToTensor conversion and calculate the mean and std dev in a moment which can be used in the future."
   ]
  },
  {
   "cell_type": "code",
   "execution_count": 2,
   "metadata": {},
   "outputs": [],
   "source": [
    "batch_size_train = 100\n",
    "train_mnist = torchvision.datasets.MNIST('C:/projects/summer2020/vision/digits/', train=True, download=True,\n",
    "                        transform=torchvision.transforms.ToTensor())\n",
    "train_loader = torch.utils.data.DataLoader(train_mnist, batch_size=batch_size_train, shuffle=True)"
   ]
  },
  {
   "cell_type": "code",
   "execution_count": 3,
   "metadata": {},
   "outputs": [],
   "source": [
    "batch_size_test = 1000\n",
    "test_mnist = torchvision.datasets.MNIST('C:/projects/summer2020/vision/digits/', train=False, download=True,\n",
    "                        transform=torchvision.transforms.ToTensor())\n",
    "test_loader = torch.utils.data.DataLoader(test_mnist,batch_size=batch_size_test, shuffle=True)"
   ]
  },
  {
   "cell_type": "markdown",
   "metadata": {},
   "source": [
    "### Structure of data\n",
    "The data train_loader and test_loader are pytorch DataLoader classes. The train data set has 60,000 images while the test set has 10,000. The structure of the object train_loader is of length n_images/batch_size = 60,000/100 = 600. Then we'll plot one of the digits."
   ]
  },
  {
   "cell_type": "code",
   "execution_count": 4,
   "metadata": {},
   "outputs": [
    {
     "data": {
      "text/plain": [
       "600"
      ]
     },
     "execution_count": 4,
     "metadata": {},
     "output_type": "execute_result"
    }
   ],
   "source": [
    "len(train_loader)"
   ]
  },
  {
   "cell_type": "code",
   "execution_count": 5,
   "metadata": {},
   "outputs": [],
   "source": [
    "examples = enumerate(train_loader)\n",
    "batch_idx, (example_data, example_targets) = next(examples)"
   ]
  },
  {
   "cell_type": "code",
   "execution_count": 6,
   "metadata": {
    "scrolled": true
   },
   "outputs": [
    {
     "data": {
      "text/plain": [
       "([], <a list of 0 Text yticklabel objects>)"
      ]
     },
     "execution_count": 6,
     "metadata": {},
     "output_type": "execute_result"
    },
    {
     "data": {
      "image/png": "[encoded data removed]",
      "text/plain": [
       "<Figure size 432x288 with 1 Axes>"
      ]
     },
     "metadata": {},
     "output_type": "display_data"
    }
   ],
   "source": [
    "plt.imshow(example_data[0][0], cmap='gray', interpolation='none')\n",
    "plt.title(\"Ground Truth: {}\".format(example_targets[0]))\n",
    "plt.xticks([])\n",
    "plt.yticks([])"
   ]
  },
  {
   "cell_type": "markdown",
   "metadata": {},
   "source": [
    "### Construct the neural net\n",
    "It's typical to create a neural network as an object to hold the structure of the model. We'll step through each line in the constructor and the 'forward' class method.\n",
    "\n",
    "Constructor:\n",
    "- self.conv1: The first layer. It takes 1 channel in (the image) and returns 10 channels. The kernel size is 5x5.\n",
    "- self.conv2: The second layer. It takes 10 channels in (from layer one) and returns 20 channels. Also kernel size of 5x5.\n",
    "- self.conv2_drop: \n",
    "- self.fc1:\n",
    "- self.fc2:\n",
    "\n",
    "'forward' method:\n"
   ]
  },
  {
   "cell_type": "code",
   "execution_count": 7,
   "metadata": {},
   "outputs": [],
   "source": [
    "class Net(nn.Module):\n",
    "    def __init__(self):\n",
    "        super(Net, self).__init__()\n",
    "        self.conv1 = nn.Conv2d(1, 10, kernel_size=5)\n",
    "        self.conv2 = nn.Conv2d(10, 20, kernel_size=5)\n",
    "        self.conv2_drop = nn.Dropout2d()\n",
    "        self.fc1 = nn.Linear(320, 50)\n",
    "        self.fc2 = nn.Linear(50, 10)\n",
    "\n",
    "    def forward(self, x):\n",
    "        x = F.relu(F.max_pool2d(self.conv1(x), 2))\n",
    "        x = F.relu(F.max_pool2d(self.conv2_drop(self.conv2(x)), 2))\n",
    "        x = x.view(-1, 320)\n",
    "        x = F.relu(self.fc1(x))\n",
    "        x = F.dropout(x, training=self.training)\n",
    "        x = self.fc2(x)\n",
    "        return F.log_softmax(x)"
   ]
  },
  {
   "cell_type": "markdown",
   "metadata": {},
   "source": [
    "This is a good place to explain what the parameters of training the neural network are. \n",
    "\n",
    "The most important is the **learning rate**. When using gradient decent to optimize a function the learning rate is the rate at which the weights improve. I love the example of trying to find the bottom of a valley. If you take a huge step then you might overstep the lowest point. Whereas if you take baby steps then you might find it but it will take a while and it will be more difficult to determine the gradient with such small steps. You are looking for a sweet spot where you make significant progress while not missing the optimal values. "
   ]
  },
  {
   "cell_type": "code",
   "execution_count": 8,
   "metadata": {},
   "outputs": [],
   "source": [
    "n_epochs = 2\n",
    "learning_rate = 0.005\n",
    "log_interval = 20"
   ]
  },
  {
   "cell_type": "code",
   "execution_count": 9,
   "metadata": {},
   "outputs": [],
   "source": [
    "network = Net()\n",
    "optimizer = optim.Adam(network.parameters(), lr=learning_rate)"
   ]
  },
  {
   "cell_type": "code",
   "execution_count": 10,
   "metadata": {},
   "outputs": [],
   "source": [
    "train_losses = []\n",
    "train_counter = []\n",
    "test_losses = []\n",
    "test_counter = [i*len(train_loader.dataset) for i in range(n_epochs + 1)]"
   ]
  },
  {
   "cell_type": "code",
   "execution_count": 11,
   "metadata": {},
   "outputs": [],
   "source": [
    "def train(epoch):\n",
    "  network.train()\n",
    "  for batch_idx, (data, target) in enumerate(train_loader):\n",
    "    optimizer.zero_grad()\n",
    "    output = network(data)\n",
    "    loss = F.nll_loss(output, target)\n",
    "    loss.backward()\n",
    "    optimizer.step()\n",
    "    if batch_idx % log_interval == 0:\n",
    "      print('Train Epoch: {} [{}/{} ({:.0f}%)]\\tLoss: {:.6f}'.format(\n",
    "        epoch, batch_idx * len(data), len(train_loader.dataset),\n",
    "        100. * batch_idx / len(train_loader), loss.item()))\n",
    "      train_losses.append(loss.item())\n",
    "      train_counter.append((batch_idx*batch_size_train) + ((epoch-1)*len(train_loader.dataset)))\n"
   ]
  },
  {
   "cell_type": "code",
   "execution_count": 12,
   "metadata": {},
   "outputs": [],
   "source": [
    "def test():\n",
    "  network.eval()\n",
    "  test_loss = 0\n",
    "  correct = 0\n",
    "  with torch.no_grad():\n",
    "    for data, target in test_loader:\n",
    "      output = network(data)\n",
    "      test_loss += F.nll_loss(output, target, size_average=False).item()\n",
    "      pred = output.data.max(1, keepdim=True)[1]\n",
    "      correct += pred.eq(target.data.view_as(pred)).sum()\n",
    "  test_loss /= len(test_loader.dataset)\n",
    "  test_losses.append(test_loss)\n",
    "  print('\\nTest set: Avg. loss: {:.4f}, Accuracy: {}/{} ({:.0f}%)\\n'.format(test_loss, correct, len(test_loader.dataset),\n",
    "    100. * correct / len(test_loader.dataset)))"
   ]
  },
  {
   "cell_type": "code",
   "execution_count": 13,
   "metadata": {
    "scrolled": false
   },
   "outputs": [
    {
     "name": "stderr",
     "output_type": "stream",
     "text": [
      "C:\\Users\\scott\\Anaconda3\\envs\\general-vision\\lib\\site-packages\\ipykernel_launcher.py:17: UserWarning: Implicit dimension choice for log_softmax has been deprecated. Change the call to include dim=X as an argument.\n",
      "C:\\Users\\scott\\Anaconda3\\envs\\general-vision\\lib\\site-packages\\torch\\nn\\_reduction.py:43: UserWarning: size_average and reduce args will be deprecated, please use reduction='sum' instead.\n",
      "  warnings.warn(warning.format(ret))\n"
     ]
    },
    {
     "name": "stdout",
     "output_type": "stream",
     "text": [
      "\n",
      "Test set: Avg. loss: 2.3044, Accuracy: 1135/10000 (11%)\n",
      "\n",
      "Train Epoch: 1 [0/60000 (0%)]\tLoss: 2.311195\n",
      "Train Epoch: 1 [2000/60000 (3%)]\tLoss: 1.570896\n",
      "Train Epoch: 1 [4000/60000 (7%)]\tLoss: 0.767959\n",
      "Train Epoch: 1 [6000/60000 (10%)]\tLoss: 0.759832\n",
      "Train Epoch: 1 [8000/60000 (13%)]\tLoss: 0.614130\n",
      "Train Epoch: 1 [10000/60000 (17%)]\tLoss: 0.604069\n",
      "Train Epoch: 1 [12000/60000 (20%)]\tLoss: 0.590549\n",
      "Train Epoch: 1 [14000/60000 (23%)]\tLoss: 0.576441\n",
      "Train Epoch: 1 [16000/60000 (27%)]\tLoss: 0.291166\n",
      "Train Epoch: 1 [18000/60000 (30%)]\tLoss: 0.351497\n",
      "Train Epoch: 1 [20000/60000 (33%)]\tLoss: 0.266274\n",
      "Train Epoch: 1 [22000/60000 (37%)]\tLoss: 0.274054\n",
      "Train Epoch: 1 [24000/60000 (40%)]\tLoss: 0.313785\n",
      "Train Epoch: 1 [26000/60000 (43%)]\tLoss: 0.393015\n",
      "Train Epoch: 1 [28000/60000 (47%)]\tLoss: 0.456295\n",
      "Train Epoch: 1 [30000/60000 (50%)]\tLoss: 0.327399\n",
      "Train Epoch: 1 [32000/60000 (53%)]\tLoss: 0.557635\n",
      "Train Epoch: 1 [34000/60000 (57%)]\tLoss: 0.408605\n",
      "Train Epoch: 1 [36000/60000 (60%)]\tLoss: 0.326318\n",
      "Train Epoch: 1 [38000/60000 (63%)]\tLoss: 0.360724\n",
      "Train Epoch: 1 [40000/60000 (67%)]\tLoss: 0.496542\n",
      "Train Epoch: 1 [42000/60000 (70%)]\tLoss: 0.252877\n",
      "Train Epoch: 1 [44000/60000 (73%)]\tLoss: 0.395438\n",
      "Train Epoch: 1 [46000/60000 (77%)]\tLoss: 0.352167\n",
      "Train Epoch: 1 [48000/60000 (80%)]\tLoss: 0.253315\n",
      "Train Epoch: 1 [50000/60000 (83%)]\tLoss: 0.335428\n",
      "Train Epoch: 1 [52000/60000 (87%)]\tLoss: 0.263678\n",
      "Train Epoch: 1 [54000/60000 (90%)]\tLoss: 0.253326\n",
      "Train Epoch: 1 [56000/60000 (93%)]\tLoss: 0.274339\n",
      "Train Epoch: 1 [58000/60000 (97%)]\tLoss: 0.392233\n",
      "\n",
      "Test set: Avg. loss: 0.0920, Accuracy: 9715/10000 (97%)\n",
      "\n",
      "Train Epoch: 2 [0/60000 (0%)]\tLoss: 0.280736\n",
      "Train Epoch: 2 [2000/60000 (3%)]\tLoss: 0.337367\n",
      "Train Epoch: 2 [4000/60000 (7%)]\tLoss: 0.477812\n",
      "Train Epoch: 2 [6000/60000 (10%)]\tLoss: 0.272895\n",
      "Train Epoch: 2 [8000/60000 (13%)]\tLoss: 0.265336\n",
      "Train Epoch: 2 [10000/60000 (17%)]\tLoss: 0.146713\n",
      "Train Epoch: 2 [12000/60000 (20%)]\tLoss: 0.217535\n",
      "Train Epoch: 2 [14000/60000 (23%)]\tLoss: 0.200104\n",
      "Train Epoch: 2 [16000/60000 (27%)]\tLoss: 0.296232\n",
      "Train Epoch: 2 [18000/60000 (30%)]\tLoss: 0.206594\n",
      "Train Epoch: 2 [20000/60000 (33%)]\tLoss: 0.276357\n",
      "Train Epoch: 2 [22000/60000 (37%)]\tLoss: 0.392619\n",
      "Train Epoch: 2 [24000/60000 (40%)]\tLoss: 0.253444\n",
      "Train Epoch: 2 [26000/60000 (43%)]\tLoss: 0.269463\n",
      "Train Epoch: 2 [28000/60000 (47%)]\tLoss: 0.217694\n",
      "Train Epoch: 2 [30000/60000 (50%)]\tLoss: 0.246077\n",
      "Train Epoch: 2 [32000/60000 (53%)]\tLoss: 0.151259\n",
      "Train Epoch: 2 [34000/60000 (57%)]\tLoss: 0.383778\n",
      "Train Epoch: 2 [36000/60000 (60%)]\tLoss: 0.259162\n",
      "Train Epoch: 2 [38000/60000 (63%)]\tLoss: 0.202413\n",
      "Train Epoch: 2 [40000/60000 (67%)]\tLoss: 0.215635\n",
      "Train Epoch: 2 [42000/60000 (70%)]\tLoss: 0.148408\n",
      "Train Epoch: 2 [44000/60000 (73%)]\tLoss: 0.174834\n",
      "Train Epoch: 2 [46000/60000 (77%)]\tLoss: 0.190517\n",
      "Train Epoch: 2 [48000/60000 (80%)]\tLoss: 0.270495\n",
      "Train Epoch: 2 [50000/60000 (83%)]\tLoss: 0.243450\n",
      "Train Epoch: 2 [52000/60000 (87%)]\tLoss: 0.211228\n",
      "Train Epoch: 2 [54000/60000 (90%)]\tLoss: 0.272648\n",
      "Train Epoch: 2 [56000/60000 (93%)]\tLoss: 0.268213\n",
      "Train Epoch: 2 [58000/60000 (97%)]\tLoss: 0.289053\n",
      "\n",
      "Test set: Avg. loss: 0.0693, Accuracy: 9785/10000 (98%)\n",
      "\n"
     ]
    }
   ],
   "source": [
    "test()\n",
    "for epoch in range(1, n_epochs + 1):\n",
    "  train(epoch)\n",
    "  test()"
   ]
  },
  {
   "cell_type": "code",
   "execution_count": 14,
   "metadata": {},
   "outputs": [
    {
     "data": {
      "text/plain": [
       "Text(0, 0.5, 'negative log likelihood loss')"
      ]
     },
     "execution_count": 14,
     "metadata": {},
     "output_type": "execute_result"
    },
    {
     "data": {
      "image/png": "[encoded data removed]",
      "text/plain": [
       "<Figure size 432x288 with 1 Axes>"
      ]
     },
     "metadata": {
      "needs_background": "light"
     },
     "output_type": "display_data"
    }
   ],
   "source": [
    "fig = plt.figure()\n",
    "plt.plot(train_counter, train_losses, color='blue')\n",
    "plt.scatter(test_counter, test_losses, color='red')\n",
    "plt.legend(['Train Loss', 'Test Loss'], loc='upper right')\n",
    "plt.xlabel('number of training examples seen')\n",
    "plt.ylabel('negative log likelihood loss')"
   ]
  },
  {
   "cell_type": "code",
   "execution_count": 15,
   "metadata": {},
   "outputs": [
    {
     "name": "stderr",
     "output_type": "stream",
     "text": [
      "C:\\Users\\scott\\Anaconda3\\envs\\general-vision\\lib\\site-packages\\ipykernel_launcher.py:17: UserWarning: Implicit dimension choice for log_softmax has been deprecated. Change the call to include dim=X as an argument.\n"
     ]
    }
   ],
   "source": [
    "with torch.no_grad():\n",
    "  prediction = network(example_data)"
   ]
  },
  {
   "cell_type": "code",
   "execution_count": 16,
   "metadata": {},
   "outputs": [
    {
     "data": {
      "image/png": "[encoded data removed]",
      "text/plain": [
       "<Figure size 432x288 with 6 Axes>"
      ]
     },
     "metadata": {},
     "output_type": "display_data"
    }
   ],
   "source": [
    "for i in range(6):\n",
    "  plt.subplot(2,3,i+1)\n",
    "  plt.tight_layout()\n",
    "  plt.imshow(example_data[i][0], cmap='gray', interpolation='none')\n",
    "  plt.title(\"Prediction: {}\".format(prediction.data.max(1, keepdim=True)[1][i].item()))\n",
    "  plt.xticks([])\n",
    "  plt.yticks([])"
   ]
  }
 ],
 "metadata": {
  "kernelspec": {
   "display_name": "Python 3",
   "language": "python",
   "name": "python3"
  },
  "language_info": {
   "codemirror_mode": {
    "name": "ipython",
    "version": 3
   },
   "file_extension": ".py",
   "mimetype": "text/x-python",
   "name": "python",
   "nbconvert_exporter": "python",
   "pygments_lexer": "ipython3",
   "version": "3.7.7"
  }
 },
 "nbformat": 4,
 "nbformat_minor": 4
}
