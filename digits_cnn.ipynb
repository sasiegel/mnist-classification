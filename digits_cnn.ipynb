{
 "cells": [
  {
   "cell_type": "code",
   "execution_count": 1,
   "metadata": {},
   "outputs": [],
   "source": [
    "import torch\n",
    "import torchvision\n",
    "import matplotlib.pyplot as plt\n",
    "import torch.nn as nn\n",
    "import torch.nn.functional as F\n",
    "import torch.optim as optim"
   ]
  },
  {
   "cell_type": "markdown",
   "metadata": {},
   "source": [
    "# Classifying Digits with Convolutional Neural Net (CNN)"
   ]
  },
  {
   "cell_type": "markdown",
   "metadata": {},
   "source": [
    "### Read Data\n",
    "The **batch size** is the number of samples passed through the neural net at a time. So if there are 1,000 samples and your batch size is 100 then for each epoch there will be 1,000/100 = 10 batches passed through the net. An advantage is if you have one billion samples and you don't have the computing power (memory) to pass it all at once. Also it's been shown that networks train faster using batches smaller than the entire sample.\n",
    "\n",
    "The data is downloaded from pytorch module and stored in the root file. The pytorch class DataLoader is used to load the data set into the environment. Typically we would like to normalize the data and the transform argument in DataLoader class is a nice place to pass a Compose class that contains both the ToTensor conversion as well as Normalize function. In this case we'll just do the ToTensor conversion and calculate the mean and std dev in a moment which can be used in the future."
   ]
  },
  {
   "cell_type": "code",
   "execution_count": 2,
   "metadata": {},
   "outputs": [],
   "source": [
    "batch_size_train = 64\n",
    "train_mnist = torchvision.datasets.MNIST('C:/projects/summer2020/vision/digits/', train=True, download=True,\n",
    "                        transform=torchvision.transforms.ToTensor())\n",
    "train_loader = torch.utils.data.DataLoader(train_mnist, batch_size=batch_size_train, shuffle=True)"
   ]
  },
  {
   "cell_type": "code",
   "execution_count": 3,
   "metadata": {},
   "outputs": [],
   "source": [
    "batch_size_test = 1000\n",
    "test_mnist = torchvision.datasets.MNIST('C:/projects/summer2020/vision/digits/', train=False, download=True,\n",
    "                        transform=torchvision.transforms.ToTensor())\n",
    "test_loader = torch.utils.data.DataLoader(test_mnist,batch_size=batch_size_test, shuffle=True)"
   ]
  },
  {
   "cell_type": "markdown",
   "metadata": {},
   "source": [
    "### Structure of data\n",
    "The data train_loader and test_loader are pytorch DataLoader classes. The train data set has 60,000 images while the test set has 10,000. The structure of the object train_loader is of length n_images/batch_size = 60,000/64 = 938. Then we'll plot one of the data points."
   ]
  },
  {
   "cell_type": "code",
   "execution_count": 4,
   "metadata": {},
   "outputs": [
    {
     "data": {
      "text/plain": [
       "938"
      ]
     },
     "execution_count": 4,
     "metadata": {},
     "output_type": "execute_result"
    }
   ],
   "source": [
    "len(train_loader)"
   ]
  },
  {
   "cell_type": "code",
   "execution_count": 5,
   "metadata": {},
   "outputs": [],
   "source": [
    "examples = enumerate(train_loader)\n",
    "batch_idx, (example_data, example_targets) = next(examples)"
   ]
  },
  {
   "cell_type": "code",
   "execution_count": 7,
   "metadata": {
    "scrolled": true
   },
   "outputs": [
    {
     "data": {
      "text/plain": [
       "([], <a list of 0 Text yticklabel objects>)"
      ]
     },
     "execution_count": 7,
     "metadata": {},
     "output_type": "execute_result"
    },
    {
     "data": {
      "image/png": "[encoded data removed]",
      "text/plain": [
       "<Figure size 432x288 with 1 Axes>"
      ]
     },
     "metadata": {},
     "output_type": "display_data"
    }
   ],
   "source": [
    "plt.imshow(example_data[0][0], cmap='gray', interpolation='none')\n",
    "plt.title(\"Ground Truth: {}\".format(example_targets[0]))\n",
    "plt.xticks([])\n",
    "plt.yticks([])"
   ]
  },
  {
   "cell_type": "markdown",
   "metadata": {},
   "source": [
    "### Construct the neural net\n",
    "It's typical to create a neural network as an object to hold the structure of the model. We'll step through each line in the constructor and the class method 'forward'.\n",
    "\n",
    "Constructor:\n",
    "- self.conv1: The first layer. It takes 1 channel in (the image) and returns 10 channels. The kernel size is 5x5.\n",
    "- self.conv2: The second layer. It takes 10 channels in (from layer one) and returns 20 channels. Also kernel size of 5x5.\n",
    "- self.conv2_drop: \n",
    "- self.fc1:\n",
    "- self.fc2:\n",
    "\n",
    "'forward' method:\n"
   ]
  },
  {
   "cell_type": "code",
   "execution_count": 8,
   "metadata": {},
   "outputs": [],
   "source": [
    "class Net(nn.Module):\n",
    "    def __init__(self):\n",
    "        super(Net, self).__init__()\n",
    "        self.conv1 = nn.Conv2d(1, 10, kernel_size=5)\n",
    "        self.conv2 = nn.Conv2d(10, 20, kernel_size=5)\n",
    "        self.conv2_drop = nn.Dropout2d()\n",
    "        self.fc1 = nn.Linear(320, 50)\n",
    "        self.fc2 = nn.Linear(50, 10)\n",
    "\n",
    "    def forward(self, x):\n",
    "        x = F.relu(F.max_pool2d(self.conv1(x), 2))\n",
    "        x = F.relu(F.max_pool2d(self.conv2_drop(self.conv2(x)), 2))\n",
    "        x = x.view(-1, 320)\n",
    "        x = F.relu(self.fc1(x))\n",
    "        x = F.dropout(x, training=self.training)\n",
    "        x = self.fc2(x)\n",
    "        return F.log_softmax(x)"
   ]
  },
  {
   "cell_type": "code",
   "execution_count": 9,
   "metadata": {},
   "outputs": [],
   "source": [
    "n_epochs = 3\n",
    "learning_rate = 0.01\n",
    "momentum = 0.5\n",
    "log_interval = 10"
   ]
  },
  {
   "cell_type": "code",
   "execution_count": 10,
   "metadata": {},
   "outputs": [],
   "source": [
    "network = Net()\n",
    "# optimizer = optim.SGD(network.parameters(), lr=learning_rate, momentum=momentum)\n",
    "optimizer = optim.Adam(network.parameters(), lr=learning_rate)"
   ]
  },
  {
   "cell_type": "code",
   "execution_count": 11,
   "metadata": {},
   "outputs": [],
   "source": [
    "train_losses = []\n",
    "train_counter = []\n",
    "test_losses = []\n",
    "test_counter = [i*len(train_loader.dataset) for i in range(n_epochs + 1)]"
   ]
  },
  {
   "cell_type": "code",
   "execution_count": 12,
   "metadata": {},
   "outputs": [],
   "source": [
    "def train(epoch):\n",
    "  network.train()\n",
    "  for batch_idx, (data, target) in enumerate(train_loader):\n",
    "    optimizer.zero_grad()\n",
    "    output = network(data)\n",
    "    loss = F.nll_loss(output, target)\n",
    "    loss.backward()\n",
    "    optimizer.step()\n",
    "    if batch_idx % log_interval == 0:\n",
    "      print('Train Epoch: {} [{}/{} ({:.0f}%)]\\tLoss: {:.6f}'.format(\n",
    "        epoch, batch_idx * len(data), len(train_loader.dataset),\n",
    "        100. * batch_idx / len(train_loader), loss.item()))\n",
    "      train_losses.append(loss.item())\n",
    "      train_counter.append((batch_idx*64) + ((epoch-1)*len(train_loader.dataset)))\n"
   ]
  },
  {
   "cell_type": "code",
   "execution_count": 13,
   "metadata": {},
   "outputs": [],
   "source": [
    "def test():\n",
    "  network.eval()\n",
    "  test_loss = 0\n",
    "  correct = 0\n",
    "  with torch.no_grad():\n",
    "    for data, target in test_loader:\n",
    "      output = network(data)\n",
    "      test_loss += F.nll_loss(output, target, size_average=False).item()\n",
    "      pred = output.data.max(1, keepdim=True)[1]\n",
    "      correct += pred.eq(target.data.view_as(pred)).sum()\n",
    "  test_loss /= len(test_loader.dataset)\n",
    "  test_losses.append(test_loss)\n",
    "  print('\\nTest set: Avg. loss: {:.4f}, Accuracy: {}/{} ({:.0f}%)\\n'.format(test_loss, correct, len(test_loader.dataset),\n",
    "    100. * correct / len(test_loader.dataset)))"
   ]
  },
  {
   "cell_type": "code",
   "execution_count": 14,
   "metadata": {},
   "outputs": [
    {
     "name": "stderr",
     "output_type": "stream",
     "text": [
      "C:\\Users\\scott\\Anaconda3\\envs\\general-vision\\lib\\site-packages\\ipykernel_launcher.py:17: UserWarning: Implicit dimension choice for log_softmax has been deprecated. Change the call to include dim=X as an argument.\n",
      "C:\\Users\\scott\\Anaconda3\\envs\\general-vision\\lib\\site-packages\\torch\\nn\\_reduction.py:43: UserWarning: size_average and reduce args will be deprecated, please use reduction='sum' instead.\n",
      "  warnings.warn(warning.format(ret))\n"
     ]
    },
    {
     "name": "stdout",
     "output_type": "stream",
     "text": [
      "\n",
      "Test set: Avg. loss: 2.3038, Accuracy: 1028/10000 (10%)\n",
      "\n",
      "Train Epoch: 1 [0/60000 (0%)]\tLoss: 2.315575\n",
      "Train Epoch: 1 [640/60000 (1%)]\tLoss: 2.297130\n",
      "Train Epoch: 1 [1280/60000 (2%)]\tLoss: 2.082996\n",
      "Train Epoch: 1 [1920/60000 (3%)]\tLoss: 1.537947\n",
      "Train Epoch: 1 [2560/60000 (4%)]\tLoss: 1.782610\n",
      "Train Epoch: 1 [3200/60000 (5%)]\tLoss: 1.696118\n",
      "Train Epoch: 1 [3840/60000 (6%)]\tLoss: 1.340441\n",
      "Train Epoch: 1 [4480/60000 (7%)]\tLoss: 1.337012\n",
      "Train Epoch: 1 [5120/60000 (9%)]\tLoss: 1.451793\n",
      "Train Epoch: 1 [5760/60000 (10%)]\tLoss: 1.270911\n",
      "Train Epoch: 1 [6400/60000 (11%)]\tLoss: 1.131800\n",
      "Train Epoch: 1 [7040/60000 (12%)]\tLoss: 1.154038\n",
      "Train Epoch: 1 [7680/60000 (13%)]\tLoss: 1.328714\n",
      "Train Epoch: 1 [8320/60000 (14%)]\tLoss: 0.910683\n",
      "Train Epoch: 1 [8960/60000 (15%)]\tLoss: 1.281817\n",
      "Train Epoch: 1 [9600/60000 (16%)]\tLoss: 0.850208\n",
      "Train Epoch: 1 [10240/60000 (17%)]\tLoss: 1.213740\n",
      "Train Epoch: 1 [10880/60000 (18%)]\tLoss: 1.079012\n",
      "Train Epoch: 1 [11520/60000 (19%)]\tLoss: 1.348181\n",
      "Train Epoch: 1 [12160/60000 (20%)]\tLoss: 1.002060\n",
      "Train Epoch: 1 [12800/60000 (21%)]\tLoss: 1.510006\n",
      "Train Epoch: 1 [13440/60000 (22%)]\tLoss: 1.148593\n",
      "Train Epoch: 1 [14080/60000 (23%)]\tLoss: 1.037072\n",
      "Train Epoch: 1 [14720/60000 (25%)]\tLoss: 0.706336\n",
      "Train Epoch: 1 [15360/60000 (26%)]\tLoss: 0.779444\n",
      "Train Epoch: 1 [16000/60000 (27%)]\tLoss: 1.196728\n",
      "Train Epoch: 1 [16640/60000 (28%)]\tLoss: 1.034321\n",
      "Train Epoch: 1 [17280/60000 (29%)]\tLoss: 0.797505\n",
      "Train Epoch: 1 [17920/60000 (30%)]\tLoss: 1.105191\n",
      "Train Epoch: 1 [18560/60000 (31%)]\tLoss: 0.999926\n",
      "Train Epoch: 1 [19200/60000 (32%)]\tLoss: 0.821724\n",
      "Train Epoch: 1 [19840/60000 (33%)]\tLoss: 1.058655\n",
      "Train Epoch: 1 [20480/60000 (34%)]\tLoss: 0.660086\n",
      "Train Epoch: 1 [21120/60000 (35%)]\tLoss: 1.224506\n",
      "Train Epoch: 1 [21760/60000 (36%)]\tLoss: 0.872572\n",
      "Train Epoch: 1 [22400/60000 (37%)]\tLoss: 0.863809\n",
      "Train Epoch: 1 [23040/60000 (38%)]\tLoss: 1.212894\n",
      "Train Epoch: 1 [23680/60000 (39%)]\tLoss: 0.939465\n",
      "Train Epoch: 1 [24320/60000 (41%)]\tLoss: 0.842973\n",
      "Train Epoch: 1 [24960/60000 (42%)]\tLoss: 0.966369\n",
      "Train Epoch: 1 [25600/60000 (43%)]\tLoss: 0.810021\n",
      "Train Epoch: 1 [26240/60000 (44%)]\tLoss: 0.869442\n",
      "Train Epoch: 1 [26880/60000 (45%)]\tLoss: 0.718154\n",
      "Train Epoch: 1 [27520/60000 (46%)]\tLoss: 0.725862\n",
      "Train Epoch: 1 [28160/60000 (47%)]\tLoss: 0.914032\n",
      "Train Epoch: 1 [28800/60000 (48%)]\tLoss: 0.837101\n",
      "Train Epoch: 1 [29440/60000 (49%)]\tLoss: 0.700352\n",
      "Train Epoch: 1 [30080/60000 (50%)]\tLoss: 0.954757\n",
      "Train Epoch: 1 [30720/60000 (51%)]\tLoss: 1.033467\n",
      "Train Epoch: 1 [31360/60000 (52%)]\tLoss: 0.755006\n",
      "Train Epoch: 1 [32000/60000 (53%)]\tLoss: 0.917795\n",
      "Train Epoch: 1 [32640/60000 (54%)]\tLoss: 0.580435\n",
      "Train Epoch: 1 [33280/60000 (55%)]\tLoss: 0.714468\n",
      "Train Epoch: 1 [33920/60000 (57%)]\tLoss: 0.909805\n",
      "Train Epoch: 1 [34560/60000 (58%)]\tLoss: 1.187941\n",
      "Train Epoch: 1 [35200/60000 (59%)]\tLoss: 0.803071\n",
      "Train Epoch: 1 [35840/60000 (60%)]\tLoss: 1.082270\n",
      "Train Epoch: 1 [36480/60000 (61%)]\tLoss: 0.919755\n",
      "Train Epoch: 1 [37120/60000 (62%)]\tLoss: 1.153036\n",
      "Train Epoch: 1 [37760/60000 (63%)]\tLoss: 0.714850\n",
      "Train Epoch: 1 [38400/60000 (64%)]\tLoss: 0.779382\n",
      "Train Epoch: 1 [39040/60000 (65%)]\tLoss: 0.754452\n",
      "Train Epoch: 1 [39680/60000 (66%)]\tLoss: 1.219628\n",
      "Train Epoch: 1 [40320/60000 (67%)]\tLoss: 0.966425\n",
      "Train Epoch: 1 [40960/60000 (68%)]\tLoss: 0.936160\n",
      "Train Epoch: 1 [41600/60000 (69%)]\tLoss: 0.631941\n",
      "Train Epoch: 1 [42240/60000 (70%)]\tLoss: 0.569122\n",
      "Train Epoch: 1 [42880/60000 (71%)]\tLoss: 0.916777\n",
      "Train Epoch: 1 [43520/60000 (72%)]\tLoss: 1.054842\n",
      "Train Epoch: 1 [44160/60000 (74%)]\tLoss: 0.736518\n",
      "Train Epoch: 1 [44800/60000 (75%)]\tLoss: 0.766472\n",
      "Train Epoch: 1 [45440/60000 (76%)]\tLoss: 0.706074\n",
      "Train Epoch: 1 [46080/60000 (77%)]\tLoss: 0.456884\n",
      "Train Epoch: 1 [46720/60000 (78%)]\tLoss: 0.700338\n",
      "Train Epoch: 1 [47360/60000 (79%)]\tLoss: 0.823194\n",
      "Train Epoch: 1 [48000/60000 (80%)]\tLoss: 0.700043\n",
      "Train Epoch: 1 [48640/60000 (81%)]\tLoss: 0.497463\n",
      "Train Epoch: 1 [49280/60000 (82%)]\tLoss: 0.781282\n",
      "Train Epoch: 1 [49920/60000 (83%)]\tLoss: 0.702111\n",
      "Train Epoch: 1 [50560/60000 (84%)]\tLoss: 0.798768\n",
      "Train Epoch: 1 [51200/60000 (85%)]\tLoss: 0.640305\n",
      "Train Epoch: 1 [51840/60000 (86%)]\tLoss: 0.938701\n",
      "Train Epoch: 1 [52480/60000 (87%)]\tLoss: 0.633770\n",
      "Train Epoch: 1 [53120/60000 (88%)]\tLoss: 0.593180\n",
      "Train Epoch: 1 [53760/60000 (90%)]\tLoss: 1.094466\n",
      "Train Epoch: 1 [54400/60000 (91%)]\tLoss: 0.887415\n",
      "Train Epoch: 1 [55040/60000 (92%)]\tLoss: 1.141072\n",
      "Train Epoch: 1 [55680/60000 (93%)]\tLoss: 0.623102\n",
      "Train Epoch: 1 [56320/60000 (94%)]\tLoss: 0.980444\n",
      "Train Epoch: 1 [56960/60000 (95%)]\tLoss: 0.623822\n",
      "Train Epoch: 1 [57600/60000 (96%)]\tLoss: 0.603279\n",
      "Train Epoch: 1 [58240/60000 (97%)]\tLoss: 0.643283\n",
      "Train Epoch: 1 [58880/60000 (98%)]\tLoss: 0.459031\n",
      "Train Epoch: 1 [59520/60000 (99%)]\tLoss: 0.749459\n",
      "\n",
      "Test set: Avg. loss: 0.2162, Accuracy: 9371/10000 (94%)\n",
      "\n",
      "Train Epoch: 2 [0/60000 (0%)]\tLoss: 0.838941\n",
      "Train Epoch: 2 [640/60000 (1%)]\tLoss: 0.731370\n",
      "Train Epoch: 2 [1280/60000 (2%)]\tLoss: 0.593306\n",
      "Train Epoch: 2 [1920/60000 (3%)]\tLoss: 0.812299\n",
      "Train Epoch: 2 [2560/60000 (4%)]\tLoss: 0.799487\n",
      "Train Epoch: 2 [3200/60000 (5%)]\tLoss: 0.720899\n",
      "Train Epoch: 2 [3840/60000 (6%)]\tLoss: 0.573643\n",
      "Train Epoch: 2 [4480/60000 (7%)]\tLoss: 0.656444\n",
      "Train Epoch: 2 [5120/60000 (9%)]\tLoss: 0.408038\n",
      "Train Epoch: 2 [5760/60000 (10%)]\tLoss: 0.750029\n",
      "Train Epoch: 2 [6400/60000 (11%)]\tLoss: 0.712456\n",
      "Train Epoch: 2 [7040/60000 (12%)]\tLoss: 0.953331\n",
      "Train Epoch: 2 [7680/60000 (13%)]\tLoss: 0.557028\n",
      "Train Epoch: 2 [8320/60000 (14%)]\tLoss: 0.643020\n",
      "Train Epoch: 2 [8960/60000 (15%)]\tLoss: 0.610048\n",
      "Train Epoch: 2 [9600/60000 (16%)]\tLoss: 0.876904\n",
      "Train Epoch: 2 [10240/60000 (17%)]\tLoss: 0.853969\n",
      "Train Epoch: 2 [10880/60000 (18%)]\tLoss: 0.949718\n",
      "Train Epoch: 2 [11520/60000 (19%)]\tLoss: 0.794880\n",
      "Train Epoch: 2 [12160/60000 (20%)]\tLoss: 0.472396\n",
      "Train Epoch: 2 [12800/60000 (21%)]\tLoss: 0.954112\n",
      "Train Epoch: 2 [13440/60000 (22%)]\tLoss: 0.716623\n",
      "Train Epoch: 2 [14080/60000 (23%)]\tLoss: 0.729428\n",
      "Train Epoch: 2 [14720/60000 (25%)]\tLoss: 0.505444\n",
      "Train Epoch: 2 [15360/60000 (26%)]\tLoss: 0.551438\n",
      "Train Epoch: 2 [16000/60000 (27%)]\tLoss: 0.575638\n",
      "Train Epoch: 2 [16640/60000 (28%)]\tLoss: 0.677913\n",
      "Train Epoch: 2 [17280/60000 (29%)]\tLoss: 0.451805\n",
      "Train Epoch: 2 [17920/60000 (30%)]\tLoss: 0.724805\n",
      "Train Epoch: 2 [18560/60000 (31%)]\tLoss: 0.886795\n",
      "Train Epoch: 2 [19200/60000 (32%)]\tLoss: 0.587805\n",
      "Train Epoch: 2 [19840/60000 (33%)]\tLoss: 0.516344\n",
      "Train Epoch: 2 [20480/60000 (34%)]\tLoss: 0.770256\n",
      "Train Epoch: 2 [21120/60000 (35%)]\tLoss: 0.381364\n",
      "Train Epoch: 2 [21760/60000 (36%)]\tLoss: 0.535536\n",
      "Train Epoch: 2 [22400/60000 (37%)]\tLoss: 0.750931\n",
      "Train Epoch: 2 [23040/60000 (38%)]\tLoss: 0.483722\n",
      "Train Epoch: 2 [23680/60000 (39%)]\tLoss: 1.146427\n",
      "Train Epoch: 2 [24320/60000 (41%)]\tLoss: 0.790338\n",
      "Train Epoch: 2 [24960/60000 (42%)]\tLoss: 0.836362\n",
      "Train Epoch: 2 [25600/60000 (43%)]\tLoss: 0.871580\n",
      "Train Epoch: 2 [26240/60000 (44%)]\tLoss: 0.728067\n",
      "Train Epoch: 2 [26880/60000 (45%)]\tLoss: 0.539977\n",
      "Train Epoch: 2 [27520/60000 (46%)]\tLoss: 0.507225\n",
      "Train Epoch: 2 [28160/60000 (47%)]\tLoss: 0.880597\n",
      "Train Epoch: 2 [28800/60000 (48%)]\tLoss: 0.658104\n",
      "Train Epoch: 2 [29440/60000 (49%)]\tLoss: 0.647937\n",
      "Train Epoch: 2 [30080/60000 (50%)]\tLoss: 0.383534\n",
      "Train Epoch: 2 [30720/60000 (51%)]\tLoss: 0.747006\n",
      "Train Epoch: 2 [31360/60000 (52%)]\tLoss: 0.846088\n",
      "Train Epoch: 2 [32000/60000 (53%)]\tLoss: 0.771080\n",
      "Train Epoch: 2 [32640/60000 (54%)]\tLoss: 0.412109\n",
      "Train Epoch: 2 [33280/60000 (55%)]\tLoss: 0.948162\n",
      "Train Epoch: 2 [33920/60000 (57%)]\tLoss: 0.535940\n",
      "Train Epoch: 2 [34560/60000 (58%)]\tLoss: 0.549278\n",
      "Train Epoch: 2 [35200/60000 (59%)]\tLoss: 0.514991\n",
      "Train Epoch: 2 [35840/60000 (60%)]\tLoss: 0.764587\n",
      "Train Epoch: 2 [36480/60000 (61%)]\tLoss: 0.663047\n",
      "Train Epoch: 2 [37120/60000 (62%)]\tLoss: 0.918363\n",
      "Train Epoch: 2 [37760/60000 (63%)]\tLoss: 0.582748\n",
      "Train Epoch: 2 [38400/60000 (64%)]\tLoss: 0.620966\n",
      "Train Epoch: 2 [39040/60000 (65%)]\tLoss: 0.665465\n",
      "Train Epoch: 2 [39680/60000 (66%)]\tLoss: 0.797575\n",
      "Train Epoch: 2 [40320/60000 (67%)]\tLoss: 0.809576\n",
      "Train Epoch: 2 [40960/60000 (68%)]\tLoss: 0.762945\n",
      "Train Epoch: 2 [41600/60000 (69%)]\tLoss: 0.627293\n",
      "Train Epoch: 2 [42240/60000 (70%)]\tLoss: 0.720810\n",
      "Train Epoch: 2 [42880/60000 (71%)]\tLoss: 0.816553\n",
      "Train Epoch: 2 [43520/60000 (72%)]\tLoss: 0.582523\n"
     ]
    },
    {
     "name": "stdout",
     "output_type": "stream",
     "text": [
      "Train Epoch: 2 [44160/60000 (74%)]\tLoss: 0.970041\n",
      "Train Epoch: 2 [44800/60000 (75%)]\tLoss: 0.650890\n",
      "Train Epoch: 2 [45440/60000 (76%)]\tLoss: 0.803532\n",
      "Train Epoch: 2 [46080/60000 (77%)]\tLoss: 0.646031\n",
      "Train Epoch: 2 [46720/60000 (78%)]\tLoss: 0.977762\n",
      "Train Epoch: 2 [47360/60000 (79%)]\tLoss: 0.867015\n",
      "Train Epoch: 2 [48000/60000 (80%)]\tLoss: 0.664872\n",
      "Train Epoch: 2 [48640/60000 (81%)]\tLoss: 0.639358\n",
      "Train Epoch: 2 [49280/60000 (82%)]\tLoss: 0.524018\n",
      "Train Epoch: 2 [49920/60000 (83%)]\tLoss: 0.401496\n",
      "Train Epoch: 2 [50560/60000 (84%)]\tLoss: 0.451480\n",
      "Train Epoch: 2 [51200/60000 (85%)]\tLoss: 0.640849\n",
      "Train Epoch: 2 [51840/60000 (86%)]\tLoss: 1.010031\n",
      "Train Epoch: 2 [52480/60000 (87%)]\tLoss: 0.659223\n",
      "Train Epoch: 2 [53120/60000 (88%)]\tLoss: 0.885387\n",
      "Train Epoch: 2 [53760/60000 (90%)]\tLoss: 0.854680\n",
      "Train Epoch: 2 [54400/60000 (91%)]\tLoss: 1.353214\n",
      "Train Epoch: 2 [55040/60000 (92%)]\tLoss: 0.938676\n",
      "Train Epoch: 2 [55680/60000 (93%)]\tLoss: 0.706881\n",
      "Train Epoch: 2 [56320/60000 (94%)]\tLoss: 0.636154\n",
      "Train Epoch: 2 [56960/60000 (95%)]\tLoss: 0.608460\n",
      "Train Epoch: 2 [57600/60000 (96%)]\tLoss: 0.557308\n",
      "Train Epoch: 2 [58240/60000 (97%)]\tLoss: 0.688398\n",
      "Train Epoch: 2 [58880/60000 (98%)]\tLoss: 0.840854\n",
      "Train Epoch: 2 [59520/60000 (99%)]\tLoss: 0.589071\n",
      "\n",
      "Test set: Avg. loss: 0.1801, Accuracy: 9473/10000 (95%)\n",
      "\n",
      "Train Epoch: 3 [0/60000 (0%)]\tLoss: 0.582769\n",
      "Train Epoch: 3 [640/60000 (1%)]\tLoss: 0.593404\n",
      "Train Epoch: 3 [1280/60000 (2%)]\tLoss: 0.607990\n",
      "Train Epoch: 3 [1920/60000 (3%)]\tLoss: 0.726547\n",
      "Train Epoch: 3 [2560/60000 (4%)]\tLoss: 0.559239\n",
      "Train Epoch: 3 [3200/60000 (5%)]\tLoss: 0.820951\n",
      "Train Epoch: 3 [3840/60000 (6%)]\tLoss: 0.451420\n",
      "Train Epoch: 3 [4480/60000 (7%)]\tLoss: 0.382315\n",
      "Train Epoch: 3 [5120/60000 (9%)]\tLoss: 0.585762\n",
      "Train Epoch: 3 [5760/60000 (10%)]\tLoss: 0.664255\n",
      "Train Epoch: 3 [6400/60000 (11%)]\tLoss: 0.583931\n",
      "Train Epoch: 3 [7040/60000 (12%)]\tLoss: 0.486006\n",
      "Train Epoch: 3 [7680/60000 (13%)]\tLoss: 0.760455\n",
      "Train Epoch: 3 [8320/60000 (14%)]\tLoss: 0.721461\n",
      "Train Epoch: 3 [8960/60000 (15%)]\tLoss: 0.523875\n",
      "Train Epoch: 3 [9600/60000 (16%)]\tLoss: 0.443294\n",
      "Train Epoch: 3 [10240/60000 (17%)]\tLoss: 0.692938\n",
      "Train Epoch: 3 [10880/60000 (18%)]\tLoss: 0.586272\n",
      "Train Epoch: 3 [11520/60000 (19%)]\tLoss: 0.396760\n",
      "Train Epoch: 3 [12160/60000 (20%)]\tLoss: 0.475432\n",
      "Train Epoch: 3 [12800/60000 (21%)]\tLoss: 0.536799\n",
      "Train Epoch: 3 [13440/60000 (22%)]\tLoss: 0.389971\n",
      "Train Epoch: 3 [14080/60000 (23%)]\tLoss: 0.443222\n",
      "Train Epoch: 3 [14720/60000 (25%)]\tLoss: 0.471213\n",
      "Train Epoch: 3 [15360/60000 (26%)]\tLoss: 0.662554\n",
      "Train Epoch: 3 [16000/60000 (27%)]\tLoss: 0.657905\n",
      "Train Epoch: 3 [16640/60000 (28%)]\tLoss: 0.785784\n",
      "Train Epoch: 3 [17280/60000 (29%)]\tLoss: 0.641422\n",
      "Train Epoch: 3 [17920/60000 (30%)]\tLoss: 0.618323\n",
      "Train Epoch: 3 [18560/60000 (31%)]\tLoss: 0.551520\n",
      "Train Epoch: 3 [19200/60000 (32%)]\tLoss: 0.471490\n",
      "Train Epoch: 3 [19840/60000 (33%)]\tLoss: 0.698530\n",
      "Train Epoch: 3 [20480/60000 (34%)]\tLoss: 0.548041\n",
      "Train Epoch: 3 [21120/60000 (35%)]\tLoss: 0.442898\n",
      "Train Epoch: 3 [21760/60000 (36%)]\tLoss: 0.626781\n",
      "Train Epoch: 3 [22400/60000 (37%)]\tLoss: 0.593442\n",
      "Train Epoch: 3 [23040/60000 (38%)]\tLoss: 0.492742\n",
      "Train Epoch: 3 [23680/60000 (39%)]\tLoss: 0.435659\n",
      "Train Epoch: 3 [24320/60000 (41%)]\tLoss: 0.828361\n",
      "Train Epoch: 3 [24960/60000 (42%)]\tLoss: 0.820418\n",
      "Train Epoch: 3 [25600/60000 (43%)]\tLoss: 0.546811\n",
      "Train Epoch: 3 [26240/60000 (44%)]\tLoss: 0.556658\n",
      "Train Epoch: 3 [26880/60000 (45%)]\tLoss: 0.906405\n",
      "Train Epoch: 3 [27520/60000 (46%)]\tLoss: 0.792814\n",
      "Train Epoch: 3 [28160/60000 (47%)]\tLoss: 0.519611\n",
      "Train Epoch: 3 [28800/60000 (48%)]\tLoss: 0.331480\n",
      "Train Epoch: 3 [29440/60000 (49%)]\tLoss: 0.639653\n",
      "Train Epoch: 3 [30080/60000 (50%)]\tLoss: 0.630762\n",
      "Train Epoch: 3 [30720/60000 (51%)]\tLoss: 0.839986\n",
      "Train Epoch: 3 [31360/60000 (52%)]\tLoss: 0.561053\n",
      "Train Epoch: 3 [32000/60000 (53%)]\tLoss: 0.628146\n",
      "Train Epoch: 3 [32640/60000 (54%)]\tLoss: 0.524787\n",
      "Train Epoch: 3 [33280/60000 (55%)]\tLoss: 0.597099\n",
      "Train Epoch: 3 [33920/60000 (57%)]\tLoss: 0.652155\n",
      "Train Epoch: 3 [34560/60000 (58%)]\tLoss: 0.770640\n",
      "Train Epoch: 3 [35200/60000 (59%)]\tLoss: 0.542273\n",
      "Train Epoch: 3 [35840/60000 (60%)]\tLoss: 0.522407\n",
      "Train Epoch: 3 [36480/60000 (61%)]\tLoss: 0.584535\n",
      "Train Epoch: 3 [37120/60000 (62%)]\tLoss: 0.506718\n",
      "Train Epoch: 3 [37760/60000 (63%)]\tLoss: 0.534535\n",
      "Train Epoch: 3 [38400/60000 (64%)]\tLoss: 0.679542\n",
      "Train Epoch: 3 [39040/60000 (65%)]\tLoss: 0.649459\n",
      "Train Epoch: 3 [39680/60000 (66%)]\tLoss: 0.617115\n",
      "Train Epoch: 3 [40320/60000 (67%)]\tLoss: 0.471182\n",
      "Train Epoch: 3 [40960/60000 (68%)]\tLoss: 0.663835\n",
      "Train Epoch: 3 [41600/60000 (69%)]\tLoss: 0.702034\n",
      "Train Epoch: 3 [42240/60000 (70%)]\tLoss: 0.549958\n",
      "Train Epoch: 3 [42880/60000 (71%)]\tLoss: 0.474610\n",
      "Train Epoch: 3 [43520/60000 (72%)]\tLoss: 0.450010\n",
      "Train Epoch: 3 [44160/60000 (74%)]\tLoss: 1.066661\n",
      "Train Epoch: 3 [44800/60000 (75%)]\tLoss: 0.528765\n",
      "Train Epoch: 3 [45440/60000 (76%)]\tLoss: 0.800033\n",
      "Train Epoch: 3 [46080/60000 (77%)]\tLoss: 0.587303\n",
      "Train Epoch: 3 [46720/60000 (78%)]\tLoss: 0.569212\n",
      "Train Epoch: 3 [47360/60000 (79%)]\tLoss: 0.505830\n",
      "Train Epoch: 3 [48000/60000 (80%)]\tLoss: 0.572013\n",
      "Train Epoch: 3 [48640/60000 (81%)]\tLoss: 0.716275\n",
      "Train Epoch: 3 [49280/60000 (82%)]\tLoss: 0.539762\n",
      "Train Epoch: 3 [49920/60000 (83%)]\tLoss: 0.489875\n",
      "Train Epoch: 3 [50560/60000 (84%)]\tLoss: 0.710049\n",
      "Train Epoch: 3 [51200/60000 (85%)]\tLoss: 0.733434\n",
      "Train Epoch: 3 [51840/60000 (86%)]\tLoss: 0.811954\n",
      "Train Epoch: 3 [52480/60000 (87%)]\tLoss: 0.674769\n",
      "Train Epoch: 3 [53120/60000 (88%)]\tLoss: 0.711967\n",
      "Train Epoch: 3 [53760/60000 (90%)]\tLoss: 0.661880\n",
      "Train Epoch: 3 [54400/60000 (91%)]\tLoss: 0.447148\n",
      "Train Epoch: 3 [55040/60000 (92%)]\tLoss: 0.396265\n",
      "Train Epoch: 3 [55680/60000 (93%)]\tLoss: 0.708440\n",
      "Train Epoch: 3 [56320/60000 (94%)]\tLoss: 0.456408\n",
      "Train Epoch: 3 [56960/60000 (95%)]\tLoss: 0.600312\n",
      "Train Epoch: 3 [57600/60000 (96%)]\tLoss: 0.523095\n",
      "Train Epoch: 3 [58240/60000 (97%)]\tLoss: 0.393418\n",
      "Train Epoch: 3 [58880/60000 (98%)]\tLoss: 0.734768\n",
      "Train Epoch: 3 [59520/60000 (99%)]\tLoss: 0.545370\n",
      "\n",
      "Test set: Avg. loss: 0.1414, Accuracy: 9568/10000 (96%)\n",
      "\n"
     ]
    }
   ],
   "source": [
    "test()\n",
    "for epoch in range(1, n_epochs + 1):\n",
    "  train(epoch)\n",
    "  test()"
   ]
  },
  {
   "cell_type": "code",
   "execution_count": 15,
   "metadata": {},
   "outputs": [
    {
     "data": {
      "text/plain": [
       "Text(0, 0.5, 'negative log likelihood loss')"
      ]
     },
     "execution_count": 15,
     "metadata": {},
     "output_type": "execute_result"
    },
    {
     "data": {
      "image/png": "[encoded data removed]",
      "text/plain": [
       "<Figure size 432x288 with 1 Axes>"
      ]
     },
     "metadata": {
      "needs_background": "light"
     },
     "output_type": "display_data"
    }
   ],
   "source": [
    "fig = plt.figure()\n",
    "plt.plot(train_counter, train_losses, color='blue')\n",
    "plt.scatter(test_counter, test_losses, color='red')\n",
    "plt.legend(['Train Loss', 'Test Loss'], loc='upper right')\n",
    "plt.xlabel('number of training examples seen')\n",
    "plt.ylabel('negative log likelihood loss')"
   ]
  },
  {
   "cell_type": "code",
   "execution_count": 16,
   "metadata": {},
   "outputs": [
    {
     "name": "stderr",
     "output_type": "stream",
     "text": [
      "C:\\Users\\scott\\Anaconda3\\envs\\general-vision\\lib\\site-packages\\ipykernel_launcher.py:17: UserWarning: Implicit dimension choice for log_softmax has been deprecated. Change the call to include dim=X as an argument.\n"
     ]
    }
   ],
   "source": [
    "with torch.no_grad():\n",
    "  output = network(example_data)"
   ]
  },
  {
   "cell_type": "code",
   "execution_count": 17,
   "metadata": {},
   "outputs": [
    {
     "data": {
      "image/png": "[encoded data removed]",
      "text/plain": [
       "<Figure size 432x288 with 6 Axes>"
      ]
     },
     "metadata": {},
     "output_type": "display_data"
    }
   ],
   "source": [
    "for i in range(6):\n",
    "  plt.subplot(2,3,i+1)\n",
    "  plt.tight_layout()\n",
    "  plt.imshow(example_data[i][0], cmap='gray', interpolation='none')\n",
    "  plt.title(\"Prediction: {}\".format(output.data.max(1, keepdim=True)[1][i].item()))\n",
    "  plt.xticks([])\n",
    "  plt.yticks([])"
   ]
  },
  {
   "cell_type": "code",
   "execution_count": null,
   "metadata": {},
   "outputs": [],
   "source": []
  }
 ],
 "metadata": {
  "kernelspec": {
   "display_name": "Python 3",
   "language": "python",
   "name": "python3"
  },
  "language_info": {
   "codemirror_mode": {
    "name": "ipython",
    "version": 3
   },
   "file_extension": ".py",
   "mimetype": "text/x-python",
   "name": "python",
   "nbconvert_exporter": "python",
   "pygments_lexer": "ipython3",
   "version": "3.7.7"
  }
 },
 "nbformat": 4,
 "nbformat_minor": 4
}
